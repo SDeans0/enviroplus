{
 "cells": [
  {
   "cell_type": "code",
   "execution_count": 11,
   "id": "technical-exemption",
   "metadata": {},
   "outputs": [],
   "source": [
    "import sqlite3\n",
    "import datetime as dt\n",
    "READINGS_DB = 'readings_apr.db'"
   ]
  },
  {
   "cell_type": "code",
   "execution_count": 4,
   "id": "spiritual-berkeley",
   "metadata": {},
   "outputs": [],
   "source": [
    "con = sqlite3.connect(READINGS_DB)\n",
    "cur = con.cursor()\n",
    "q = cur.execute('select * from readings')\n",
    "res = q.fetchall()"
   ]
  },
  {
   "cell_type": "code",
   "execution_count": 6,
   "id": "light-friendly",
   "metadata": {},
   "outputs": [
    {
     "name": "stderr",
     "output_type": "stream",
     "text": [
      "Matplotlib is building the font cache; this may take a moment.\n"
     ]
    }
   ],
   "source": [
    "import pandas as pd\n",
    "import matplotlib.pyplot as plt"
   ]
  },
  {
   "cell_type": "code",
   "execution_count": 7,
   "id": "remarkable-mayor",
   "metadata": {},
   "outputs": [],
   "source": [
    "df = pd.DataFrame.from_records(res)"
   ]
  },
  {
   "cell_type": "code",
   "execution_count": 9,
   "id": "wooden-joyce",
   "metadata": {},
   "outputs": [
    {
     "data": {
      "text/html": [
       "<div>\n",
       "<style scoped>\n",
       "    .dataframe tbody tr th:only-of-type {\n",
       "        vertical-align: middle;\n",
       "    }\n",
       "\n",
       "    .dataframe tbody tr th {\n",
       "        vertical-align: top;\n",
       "    }\n",
       "\n",
       "    .dataframe thead th {\n",
       "        text-align: right;\n",
       "    }\n",
       "</style>\n",
       "<table border=\"1\" class=\"dataframe\">\n",
       "  <thead>\n",
       "    <tr style=\"text-align: right;\">\n",
       "      <th></th>\n",
       "      <th>time</th>\n",
       "      <th>ox</th>\n",
       "      <th>reducing</th>\n",
       "      <th>ammonia</th>\n",
       "    </tr>\n",
       "  </thead>\n",
       "  <tbody>\n",
       "    <tr>\n",
       "      <th>0</th>\n",
       "      <td>time.struct_time(tm_year=2023, tm_mon=4, tm_md...</td>\n",
       "      <td>42688.294783</td>\n",
       "      <td>5735.045412</td>\n",
       "      <td>1654.284879</td>\n",
       "    </tr>\n",
       "    <tr>\n",
       "      <th>1</th>\n",
       "      <td>time.struct_time(tm_year=2023, tm_mon=4, tm_md...</td>\n",
       "      <td>3538.480126</td>\n",
       "      <td>220.409560</td>\n",
       "      <td>303.913168</td>\n",
       "    </tr>\n",
       "    <tr>\n",
       "      <th>2</th>\n",
       "      <td>time.struct_time(tm_year=2023, tm_mon=4, tm_md...</td>\n",
       "      <td>1986.703536</td>\n",
       "      <td>242.866925</td>\n",
       "      <td>220.409560</td>\n",
       "    </tr>\n",
       "    <tr>\n",
       "      <th>3</th>\n",
       "      <td>time.struct_time(tm_year=2023, tm_mon=4, tm_md...</td>\n",
       "      <td>1560.007008</td>\n",
       "      <td>637.168142</td>\n",
       "      <td>223.616657</td>\n",
       "    </tr>\n",
       "    <tr>\n",
       "      <th>4</th>\n",
       "      <td>time.struct_time(tm_year=2023, tm_mon=4, tm_md...</td>\n",
       "      <td>1422.512235</td>\n",
       "      <td>1162.742141</td>\n",
       "      <td>239.657632</td>\n",
       "    </tr>\n",
       "    <tr>\n",
       "      <th>...</th>\n",
       "      <td>...</td>\n",
       "      <td>...</td>\n",
       "      <td>...</td>\n",
       "      <td>...</td>\n",
       "    </tr>\n",
       "    <tr>\n",
       "      <th>399951</th>\n",
       "      <td>time.struct_time(tm_year=2023, tm_mon=4, tm_md...</td>\n",
       "      <td>10036.850921</td>\n",
       "      <td>333411.299881</td>\n",
       "      <td>62589.820720</td>\n",
       "    </tr>\n",
       "    <tr>\n",
       "      <th>399952</th>\n",
       "      <td>time.struct_time(tm_year=2023, tm_mon=4, tm_md...</td>\n",
       "      <td>10032.426638</td>\n",
       "      <td>333719.256623</td>\n",
       "      <td>62675.496689</td>\n",
       "    </tr>\n",
       "    <tr>\n",
       "      <th>399953</th>\n",
       "      <td>time.struct_time(tm_year=2023, tm_mon=4, tm_md...</td>\n",
       "      <td>10032.426638</td>\n",
       "      <td>333565.217391</td>\n",
       "      <td>62604.091456</td>\n",
       "    </tr>\n",
       "    <tr>\n",
       "      <th>399954</th>\n",
       "      <td>time.struct_time(tm_year=2023, tm_mon=4, tm_md...</td>\n",
       "      <td>10032.426638</td>\n",
       "      <td>333719.256623</td>\n",
       "      <td>62804.243009</td>\n",
       "    </tr>\n",
       "    <tr>\n",
       "      <th>399955</th>\n",
       "      <td>time.struct_time(tm_year=2023, tm_mon=4, tm_md...</td>\n",
       "      <td>10036.850921</td>\n",
       "      <td>333565.217391</td>\n",
       "      <td>62689.788054</td>\n",
       "    </tr>\n",
       "  </tbody>\n",
       "</table>\n",
       "<p>399956 rows × 4 columns</p>\n",
       "</div>"
      ],
      "text/plain": [
       "                                                     time            ox   \n",
       "0       time.struct_time(tm_year=2023, tm_mon=4, tm_md...  42688.294783  \\\n",
       "1       time.struct_time(tm_year=2023, tm_mon=4, tm_md...   3538.480126   \n",
       "2       time.struct_time(tm_year=2023, tm_mon=4, tm_md...   1986.703536   \n",
       "3       time.struct_time(tm_year=2023, tm_mon=4, tm_md...   1560.007008   \n",
       "4       time.struct_time(tm_year=2023, tm_mon=4, tm_md...   1422.512235   \n",
       "...                                                   ...           ...   \n",
       "399951  time.struct_time(tm_year=2023, tm_mon=4, tm_md...  10036.850921   \n",
       "399952  time.struct_time(tm_year=2023, tm_mon=4, tm_md...  10032.426638   \n",
       "399953  time.struct_time(tm_year=2023, tm_mon=4, tm_md...  10032.426638   \n",
       "399954  time.struct_time(tm_year=2023, tm_mon=4, tm_md...  10032.426638   \n",
       "399955  time.struct_time(tm_year=2023, tm_mon=4, tm_md...  10036.850921   \n",
       "\n",
       "             reducing       ammonia  \n",
       "0         5735.045412   1654.284879  \n",
       "1          220.409560    303.913168  \n",
       "2          242.866925    220.409560  \n",
       "3          637.168142    223.616657  \n",
       "4         1162.742141    239.657632  \n",
       "...               ...           ...  \n",
       "399951  333411.299881  62589.820720  \n",
       "399952  333719.256623  62675.496689  \n",
       "399953  333565.217391  62604.091456  \n",
       "399954  333719.256623  62804.243009  \n",
       "399955  333565.217391  62689.788054  \n",
       "\n",
       "[399956 rows x 4 columns]"
      ]
     },
     "execution_count": 9,
     "metadata": {},
     "output_type": "execute_result"
    }
   ],
   "source": [
    "df.columns = [\"time\", \"ox\",\"reducing\",\"ammonia\"]\n",
    "df"
   ]
  },
  {
   "cell_type": "code",
   "execution_count": 13,
   "id": "infrared-function",
   "metadata": {},
   "outputs": [
    {
     "data": {
      "text/plain": [
       "datetime.datetime(2023, 4, 15, 22, 55, 57)"
      ]
     },
     "execution_count": 13,
     "metadata": {},
     "output_type": "execute_result"
    }
   ],
   "source": [
    "def convert_time(t):\n",
    "    t = t.split(', tm_wday=')[0]\n",
    "    return dt.datetime.strptime(t, \"time.struct_time(tm_year=%Y, tm_mon=%m, tm_mday=%d, tm_hour=%H, tm_min=%M, tm_sec=%S\")\n",
    "\n",
    "convert_time(res[0][0])"
   ]
  },
  {
   "cell_type": "code",
   "execution_count": 14,
   "id": "traditional-statistics",
   "metadata": {},
   "outputs": [],
   "source": [
    "df[\"time\"] = df[\"time\"].apply(lambda x: convert_time(x))"
   ]
  },
  {
   "cell_type": "code",
   "execution_count": 18,
   "id": "continent-vegetation",
   "metadata": {},
   "outputs": [
    {
     "data": {
      "text/html": [
       "<div>\n",
       "<style scoped>\n",
       "    .dataframe tbody tr th:only-of-type {\n",
       "        vertical-align: middle;\n",
       "    }\n",
       "\n",
       "    .dataframe tbody tr th {\n",
       "        vertical-align: top;\n",
       "    }\n",
       "\n",
       "    .dataframe thead th {\n",
       "        text-align: right;\n",
       "    }\n",
       "</style>\n",
       "<table border=\"1\" class=\"dataframe\">\n",
       "  <thead>\n",
       "    <tr style=\"text-align: right;\">\n",
       "      <th></th>\n",
       "      <th>ox</th>\n",
       "      <th>reducing</th>\n",
       "      <th>ammonia</th>\n",
       "    </tr>\n",
       "    <tr>\n",
       "      <th>time</th>\n",
       "      <th></th>\n",
       "      <th></th>\n",
       "      <th></th>\n",
       "    </tr>\n",
       "  </thead>\n",
       "  <tbody>\n",
       "    <tr>\n",
       "      <th>2023-04-15 22:55:57</th>\n",
       "      <td>42688.294783</td>\n",
       "      <td>5735.045412</td>\n",
       "      <td>1654.284879</td>\n",
       "    </tr>\n",
       "    <tr>\n",
       "      <th>2023-04-15 22:55:57</th>\n",
       "      <td>3538.480126</td>\n",
       "      <td>220.409560</td>\n",
       "      <td>303.913168</td>\n",
       "    </tr>\n",
       "    <tr>\n",
       "      <th>2023-04-15 22:55:57</th>\n",
       "      <td>1986.703536</td>\n",
       "      <td>242.866925</td>\n",
       "      <td>220.409560</td>\n",
       "    </tr>\n",
       "    <tr>\n",
       "      <th>2023-04-15 22:55:57</th>\n",
       "      <td>1560.007008</td>\n",
       "      <td>637.168142</td>\n",
       "      <td>223.616657</td>\n",
       "    </tr>\n",
       "    <tr>\n",
       "      <th>2023-04-15 22:55:57</th>\n",
       "      <td>1422.512235</td>\n",
       "      <td>1162.742141</td>\n",
       "      <td>239.657632</td>\n",
       "    </tr>\n",
       "    <tr>\n",
       "      <th>...</th>\n",
       "      <td>...</td>\n",
       "      <td>...</td>\n",
       "      <td>...</td>\n",
       "    </tr>\n",
       "    <tr>\n",
       "      <th>2023-04-16 15:49:44</th>\n",
       "      <td>10036.850921</td>\n",
       "      <td>333411.299881</td>\n",
       "      <td>62589.820720</td>\n",
       "    </tr>\n",
       "    <tr>\n",
       "      <th>2023-04-16 15:49:44</th>\n",
       "      <td>10032.426638</td>\n",
       "      <td>333719.256623</td>\n",
       "      <td>62675.496689</td>\n",
       "    </tr>\n",
       "    <tr>\n",
       "      <th>2023-04-16 15:49:44</th>\n",
       "      <td>10032.426638</td>\n",
       "      <td>333565.217391</td>\n",
       "      <td>62604.091456</td>\n",
       "    </tr>\n",
       "    <tr>\n",
       "      <th>2023-04-16 15:49:44</th>\n",
       "      <td>10032.426638</td>\n",
       "      <td>333719.256623</td>\n",
       "      <td>62804.243009</td>\n",
       "    </tr>\n",
       "    <tr>\n",
       "      <th>2023-04-16 15:49:44</th>\n",
       "      <td>10036.850921</td>\n",
       "      <td>333565.217391</td>\n",
       "      <td>62689.788054</td>\n",
       "    </tr>\n",
       "  </tbody>\n",
       "</table>\n",
       "<p>399956 rows × 3 columns</p>\n",
       "</div>"
      ],
      "text/plain": [
       "                               ox       reducing       ammonia\n",
       "time                                                          \n",
       "2023-04-15 22:55:57  42688.294783    5735.045412   1654.284879\n",
       "2023-04-15 22:55:57   3538.480126     220.409560    303.913168\n",
       "2023-04-15 22:55:57   1986.703536     242.866925    220.409560\n",
       "2023-04-15 22:55:57   1560.007008     637.168142    223.616657\n",
       "2023-04-15 22:55:57   1422.512235    1162.742141    239.657632\n",
       "...                           ...            ...           ...\n",
       "2023-04-16 15:49:44  10036.850921  333411.299881  62589.820720\n",
       "2023-04-16 15:49:44  10032.426638  333719.256623  62675.496689\n",
       "2023-04-16 15:49:44  10032.426638  333565.217391  62604.091456\n",
       "2023-04-16 15:49:44  10032.426638  333719.256623  62804.243009\n",
       "2023-04-16 15:49:44  10036.850921  333565.217391  62689.788054\n",
       "\n",
       "[399956 rows x 3 columns]"
      ]
     },
     "execution_count": 18,
     "metadata": {},
     "output_type": "execute_result"
    }
   ],
   "source": [
    "df"
   ]
  },
  {
   "cell_type": "code",
   "execution_count": 17,
   "id": "serial-nylon",
   "metadata": {},
   "outputs": [],
   "source": [
    "df.set_index(\"time\", inplace=True)\n"
   ]
  },
  {
   "cell_type": "code",
   "execution_count": 21,
   "id": "silver-china",
   "metadata": {},
   "outputs": [
    {
     "data": {
      "text/plain": [
       "<Figure size 640x480 with 0 Axes>"
      ]
     },
     "metadata": {},
     "output_type": "display_data"
    },
    {
     "data": {
      "image/png": "[encoded data removed]",
      "text/plain": [
       "<Figure size 640x480 with 4 Axes>"
      ]
     },
     "metadata": {},
     "output_type": "display_data"
    }
   ],
   "source": [
    "plt.clf()\n",
    "df.hist(bins=30)\n",
    "plt.show()\n"
   ]
  },
  {
   "cell_type": "code",
   "execution_count": 44,
   "id": "polish-trout",
   "metadata": {},
   "outputs": [
    {
     "data": {
      "image/png": "[encoded data removed]",
      "text/plain": [
       "<Figure size 1000x750 with 1 Axes>"
      ]
     },
     "metadata": {},
     "output_type": "display_data"
    }
   ],
   "source": [
    "plt.clf()\n",
    "plt.rcParams['figure.figsize'] = [10, 7.5]\n",
    "df2 = df[df.index > dt.datetime(2023, 4, 16, 9, 0, 0)][\"ox\"]\n",
    "df2.groupby(pd.Grouper(freq='3Min')).mean().plot(kind='bar')\n",
    "plt.show()"
   ]
  },
  {
   "cell_type": "code",
   "execution_count": null,
   "id": "noted-tracy",
   "metadata": {},
   "outputs": [],
   "source": []
  }
 ],
 "metadata": {
  "kernelspec": {
   "display_name": "Python 3",
   "language": "python",
   "name": "python3"
  },
  "language_info": {
   "codemirror_mode": {
    "name": "ipython",
    "version": 3
   },
   "file_extension": ".py",
   "mimetype": "text/x-python",
   "name": "python",
   "nbconvert_exporter": "python",
   "pygments_lexer": "ipython3",
   "version": "3.9.2"
  }
 },
 "nbformat": 4,
 "nbformat_minor": 5
}
